{
 "cells": [
  {
   "cell_type": "markdown",
   "id": "2dfe7b02",
   "metadata": {},
   "source": [
    "# AI Dividend UBI Model"
   ]
  },
  {
   "cell_type": "code",
   "execution_count": null,
   "id": "d751c423",
   "metadata": {},
   "outputs": [],
   "source": [
    "# Assumptions\n",
    "population = 330_000_000  # people\n",
    "gdp_base = 23_000_000_000_000  # USD, 2024\n",
    "ai_gdp_share = 0.1\n",
    "dividend_pct = 0.2"
   ]
  },
  {
   "cell_type": "code",
   "execution_count": null,
   "id": "d9d44c53",
   "metadata": {},
   "outputs": [],
   "source": [
    "import pandas as pd\n",
    "years = list(range(2025, 2036))\n",
    "scenarios = {\"low\": 0.01, \"base\": 0.02, \"high\": 0.03}\n",
    "rows = []\n",
    "for label, growth in scenarios.items():\n",
    "    gdp = gdp_base\n",
    "    for year in years:\n",
    "        gdp *= 1 + growth\n",
    "        pool = gdp * ai_gdp_share * dividend_pct\n",
    "        payment = pool / population\n",
    "        rows.append({\"year\": year, \"scenario\": label, \"payment\": payment})\n",
    "df = pd.DataFrame(rows)"
   ]
  },
  {
   "cell_type": "code",
   "execution_count": null,
   "id": "914f22c8",
   "metadata": {},
   "outputs": [],
   "source": [
    "import matplotlib.pyplot as plt\n",
    "fig, ax = plt.subplots()\n",
    "for label, grp in df.groupby(\"scenario\"):\n",
    "    ax.plot(grp[\"year\"], grp[\"payment\"], label=label)\n",
    "ax.set_ylabel(\"Per-capita payment (USD)\")\n",
    "ax.set_title(\"AI Dividend Payment by Scenario\")\n",
    "ax.legend()\n",
    "plt.show()"
   ]
  },
  {
   "cell_type": "code",
   "execution_count": null,
   "id": "81a0c5c6",
   "metadata": {},
   "outputs": [],
   "source": [
    "baseline_poverty = 0.12\n",
    "baseline_income = 30000\n",
    "elasticity = -0.25\n",
    "table = df[df[\"scenario\"] == \"base\"].copy()\n",
    "table[\"poverty_rate\"] = baseline_poverty * (1 + elasticity * table[\"payment\"] / baseline_income)\n",
    "table[[\"year\", \"payment\", \"poverty_rate\"]]"
   ]
  },
  {
   "cell_type": "markdown",
   "id": "fe8bd76e",
   "metadata": {},
   "source": [
    "### Conclusions\n",
    "The AI dividend provides a modest universal basic income that grows with GDP. Estimates here suggest only gradual poverty reduction due to conservative assumptions. Limitations include simplified growth scenarios, fixed elasticity and lack of behavioral responses."
   ]
  }
 ],
 "metadata": {
  "kernelspec": {
   "display_name": "Python 3.11",
   "language": "python",
   "name": "python3"
  },
  "language_info": {
   "name": "python",
   "version": "3.11"
  }
 },
 "nbformat": 4,
 "nbformat_minor": 5
}
